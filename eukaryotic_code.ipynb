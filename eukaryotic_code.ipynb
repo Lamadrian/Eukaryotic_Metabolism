{
 "cells": [
  {
   "cell_type": "code",
   "execution_count": 1,
   "id": "5961c43c-a1fc-4167-a7b2-eb5d9a6d1076",
   "metadata": {},
   "outputs": [
    {
     "name": "stdout",
     "output_type": "stream",
     "text": [
      "Requirement already satisfied: czifile in c:\\users\\samsung\\appdata\\roaming\\jupyterlab-desktop\\jlab_server\\lib\\site-packages (2019.7.2)\n",
      "Requirement already satisfied: numpy>=1.11.3 in c:\\users\\samsung\\appdata\\roaming\\jupyterlab-desktop\\jlab_server\\lib\\site-packages (from czifile) (1.24.4)\n",
      "Requirement already satisfied: tifffile>=2019.7.2 in c:\\users\\samsung\\appdata\\roaming\\jupyterlab-desktop\\jlab_server\\lib\\site-packages (from czifile) (2023.7.10)\n",
      "Requirement already satisfied: imagecodecs>=2019.5.22 in c:\\users\\samsung\\appdata\\roaming\\jupyterlab-desktop\\jlab_server\\lib\\site-packages (from czifile) (2023.3.16)\n"
     ]
    }
   ],
   "source": [
    "!pip install czifile"
   ]
  },
  {
   "cell_type": "code",
   "execution_count": 2,
   "id": "cac4f7d6-c5d3-4184-9269-269920014df0",
   "metadata": {},
   "outputs": [],
   "source": [
    "import czifile as cz\n",
    "from czifile import czi2tif\n",
    "import czifile as cz\n",
    "from czifile import czi2tif\n",
    "import tifffile as tf\n",
    "import numpy as np\n",
    "import matplotlib.pyplot as plt\n",
    "import pandas as pd\n",
    "import scipy.stats as stats\n",
    "\n"
   ]
  },
  {
   "cell_type": "code",
   "execution_count": 3,
   "id": "09239c04-a56b-43f8-ac6f-89449df1ef36",
   "metadata": {},
   "outputs": [
    {
     "name": "stdout",
     "output_type": "stream",
     "text": [
      "\n",
      "Opening CZI file... 0.006695 s\n",
      "Image\n",
      "  axes:  TYX\n",
      "  shape: (16, 512, 512)\n",
      "  dtype: uint16\n",
      "  size:  8.00 MiB\n",
      "Creating empty TIF file... 0.037266 s\n",
      "Copying image from CZI to TIF file... 0.131875 s\n",
      "\n",
      "Opening CZI file... 0.003643 s\n",
      "Image\n",
      "  axes:  TYX\n",
      "  shape: (15, 512, 512)\n",
      "  dtype: uint16\n",
      "  size:  7.50 MiB\n",
      "Creating empty TIF file... 0.023435 s\n",
      "Copying image from CZI to TIF file... 0.087114 s\n",
      "\n",
      "Opening CZI file... 0.009424 s\n",
      "Image\n",
      "  axes:  TYX\n",
      "  shape: (15, 512, 512)\n",
      "  dtype: uint16\n",
      "  size:  7.50 MiB\n",
      "Creating empty TIF file... 0.017605 s\n",
      "Copying image from CZI to TIF file... 0.082184 s\n",
      "\n",
      "Opening CZI file... 0.008768 s\n",
      "Image\n",
      "  axes:  TYX\n",
      "  shape: (16, 512, 512)\n",
      "  dtype: uint16\n",
      "  size:  8.00 MiB\n",
      "Creating empty TIF file... 0.019739 s\n",
      "Copying image from CZI to TIF file... 0.077657 s\n",
      "\n",
      "Opening CZI file... 0.009286 s\n",
      "Image\n",
      "  axes:  TYX\n",
      "  shape: (15, 512, 512)\n",
      "  dtype: uint16\n",
      "  size:  7.50 MiB\n",
      "Creating empty TIF file... 0.019917 s\n",
      "Copying image from CZI to TIF file... 0.079353 s\n",
      "\n",
      "Opening CZI file... 0.012563 s\n",
      "Image\n",
      "  axes:  TYX\n",
      "  shape: (15, 512, 512)\n",
      "  dtype: uint16\n",
      "  size:  7.50 MiB\n",
      "Creating empty TIF file... 0.018885 s\n",
      "Copying image from CZI to TIF file... 0.120824 s\n",
      "['galactoseA.tiff', 'galactoseB.tiff', 'galactoseC.tiff', 'glucoseA.tiff', 'glucoseB.tiff', 'glucoseC.tiff']\n"
     ]
    }
   ],
   "source": [
    "czi_files=['galactoseA', 'galactoseB', 'galactoseC', 'glucoseA', 'glucoseB', 'glucoseC'] \n",
    "czi_ex='.czi'\n",
    "tiff_ex='.tiff'\n",
    "tiff_files =[]\n",
    "for i in range(len(czi_files)):\n",
    "    cz.czi2tif(czi_files[i]+czi_ex, czi_files[i]+tiff_ex)\n",
    "    tiff_files.append(czi_files[i]+tiff_ex)\n",
    "\n",
    "print(tiff_files) #code ensures that files are properlly named as czi files. czi files are then converted to tiff files"
   ]
  },
  {
   "cell_type": "code",
   "execution_count": 4,
   "id": "bee2b29c-0e64-41d5-866f-ec5179ea4b8e",
   "metadata": {},
   "outputs": [],
   "source": [
    "galact_tiff= ['galactoseA.tiff', 'galactoseB.tiff', 'galactoseC.tiff']\n",
    "gluc_tiff=['glucoseA.tiff', 'glucoseB.tiff', 'glucoseC.tiff']\n",
    "#seperating galactose tiff files from glucose tiff files will make it easier for the code below"
   ]
  },
  {
   "cell_type": "code",
   "execution_count": 5,
   "id": "9a4de1bb-b9f3-4ddb-a750-30fb9372f1b9",
   "metadata": {},
   "outputs": [],
   "source": [
    "def calc_mean(sugarA, sugarB,sugarC):\n",
    "    mean_int = []\n",
    "    for i in range(15): #each tiff file has 15 images. galactoseA.tiff and glucoseA.tiff had 16 images as the experiment was not stopped in time. the 16th image in galactoseA.tiff and glucoseA.tiff was ignored\n",
    "        sugarA_pxl_mn = sugarA[i]\n",
    "        \n",
    "        sugarB_pxl_mn = sugarB[i]\n",
    "        \n",
    "        sugarC_pxl_mn=sugarC[i]\n",
    "      \n",
    "        average_int = (sugarA_pxl_mn+sugarB_pxl_mn+sugarC_pxl_mn)/3 #3 cell lines were grown in each sugar medium.\n",
    "        mean_int.append(average_int)\n",
    "    return mean_int \n",
    "# the function inputs a list of mean fluoresenct intensities for each cell line at each time point. the average fluoresence intensity for each time point is calculated"
   ]
  },
  {
   "cell_type": "code",
   "execution_count": 6,
   "id": "92aa7581-4004-4801-8801-3979f57e5ebb",
   "metadata": {},
   "outputs": [],
   "source": [
    "def threshold(tiff, threshold, chosen_image_num):\n",
    "    int_at_time = [] #creates a list of fluoresence intensities for each timestamp\n",
    "    img = tf.imread(tiff)\n",
    "    img_ref = img[chosen_image_num] #assigns variable name to the image chosen as a reference \n",
    "    img_ref_01=np.where(img_ref<threshold,0,1) #creates a mask, any number below the threshold is converted to 0, and any number above the threshold in the nump to 1\n",
    "    for i in range(len(img)):\n",
    "        this_img = img[i]\n",
    "        pxl_intensities = this_img[img_ref_01==1]#mask is applied to all images in order to exclude background and only include cell bodies\n",
    "        #print(len(pxl_intensities))\n",
    "        pxl_mn = np.mean(pxl_intensities)\n",
    "        int_at_time.append(pxl_mn)\n",
    "    return  int_at_time"
   ]
  },
  {
   "cell_type": "code",
   "execution_count": 7,
   "id": "9b445459-6831-448d-a612-8fe037d3079b",
   "metadata": {},
   "outputs": [],
   "source": [
    "galactA=threshold(galact_tiff[0],355,0)\n",
    "galactB=threshold(galact_tiff[1],295,0)\n",
    "galactC=threshold(galact_tiff[2],350,0)\n",
    "\n",
    "#the list of average fluoresence intensities of each image is saved into the variables above"
   ]
  },
  {
   "cell_type": "code",
   "execution_count": 8,
   "id": "76433b6d-8b26-47fc-80bc-241b01988603",
   "metadata": {},
   "outputs": [],
   "source": [
    "galact_mean_int=calc_mean(galactA,galactB,galactC)\n",
    "#Calculates the average fluorescence intensity of cells "
   ]
  },
  {
   "cell_type": "code",
   "execution_count": 9,
   "id": "e1a0ea97-8576-43cc-9566-b62c901017f6",
   "metadata": {},
   "outputs": [
    {
     "name": "stdout",
     "output_type": "stream",
     "text": [
      "[695.5293408924375, 731.1606588918645, 741.0715511789746, 744.588271403633, 749.7589501154154, 555.1340245855143, 537.3129985060478, 535.2423324646837, 537.5765324951358, 543.8736980841636, 984.3605546156572, 1056.4399463277475, 1072.8061374629567, 1082.6210006350482, 1109.2007787337723]\n",
      "15\n"
     ]
    }
   ],
   "source": [
    "print(galact_mean_int)\n",
    "print(len(galact_mean_int))\n",
    "#checks that a list of 15 items is generated, meaning the average fluorescence intensity of all 3 cell samples are calculated at each time point"
   ]
  },
  {
   "cell_type": "code",
   "execution_count": 10,
   "id": "eef563eb-9161-44db-949e-bfdf6d03c2ee",
   "metadata": {},
   "outputs": [
    {
     "name": "stdout",
     "output_type": "stream",
     "text": [
      "[0, 30, 60, 90, 120, 150, 180, 210, 240, 270, 300, 330, 360, 390, 420]\n"
     ]
    }
   ],
   "source": [
    "time_points = []\n",
    "time=-30\n",
    "for i in range(15):\n",
    "    time+=30\n",
    "    time_points.append(time)\n",
    "print(time_points)\n",
    "#this list will be used for the x axis of the fluoresence intensity plot"
   ]
  },
  {
   "cell_type": "code",
   "execution_count": 11,
   "id": "05e0e5f3-2a76-4d99-a64a-dd93bbaea4ee",
   "metadata": {},
   "outputs": [],
   "source": [
    "glucA=threshold(gluc_tiff[0],330,0)\n",
    "glucB=threshold(gluc_tiff[1],290,0)\n",
    "glucC=threshold(gluc_tiff[2],300,0)\n",
    "#the list of average fluoresence intensities of each image is saved into the variables above\n",
    "gluc_mean_int = calc_mean(glucA,glucB,glucC)\n",
    "#the mean fluorescence intensity of all 3 cell samples are calculated at each time point\n",
    "#print(gluc_mean_int)"
   ]
  },
  {
   "cell_type": "code",
   "execution_count": 12,
   "id": "6ddd3350-1ac6-47a7-97f3-038f73c59444",
   "metadata": {},
   "outputs": [
    {
     "data": {
      "text/plain": [
       "<matplotlib.legend.Legend at 0x213b3e241f0>"
      ]
     },
     "execution_count": 12,
     "metadata": {},
     "output_type": "execute_result"
    },
    {
     "data": {
      "image/png": "[encoded data removed]",
      "text/plain": [
       "<Figure size 640x480 with 1 Axes>"
      ]
     },
     "metadata": {},
     "output_type": "display_data"
    }
   ],
   "source": [
    "sample_means = [gluc_mean_int,galact_mean_int]\n",
    "plt.plot(time_points,sample_means[0],linestyle='dashed')\n",
    "plt.plot(time_points,sample_means[1],linestyle='dashed')\n",
    "#The mean fluoresence intensity of both cell samples at each time point are plotted on the same graph\n",
    "plt.xticks(time_points)\n",
    "plt.xlabel('Time (s)')\n",
    "plt.ylabel('NAD(P)H Fluorescence (au)')\n",
    "plt.legend(['Glucose','Galactose'])"
   ]
  },
  {
   "cell_type": "code",
   "execution_count": 13,
   "id": "fc09c428-c531-43f7-8026-21ccf4f54db5",
   "metadata": {},
   "outputs": [
    {
     "data": {
      "text/html": [
       "<div>\n",
       "<style scoped>\n",
       "    .dataframe tbody tr th:only-of-type {\n",
       "        vertical-align: middle;\n",
       "    }\n",
       "\n",
       "    .dataframe tbody tr th {\n",
       "        vertical-align: top;\n",
       "    }\n",
       "\n",
       "    .dataframe thead th {\n",
       "        text-align: right;\n",
       "    }\n",
       "</style>\n",
       "<table border=\"1\" class=\"dataframe\">\n",
       "  <thead>\n",
       "    <tr style=\"text-align: right;\">\n",
       "      <th></th>\n",
       "      <th>time</th>\n",
       "      <th>Galactose Intensity</th>\n",
       "      <th>Glucose Intensity</th>\n",
       "    </tr>\n",
       "  </thead>\n",
       "  <tbody>\n",
       "    <tr>\n",
       "      <th>0</th>\n",
       "      <td>0</td>\n",
       "      <td>695.529341</td>\n",
       "      <td>791.128153</td>\n",
       "    </tr>\n",
       "    <tr>\n",
       "      <th>1</th>\n",
       "      <td>30</td>\n",
       "      <td>731.160659</td>\n",
       "      <td>791.371498</td>\n",
       "    </tr>\n",
       "    <tr>\n",
       "      <th>2</th>\n",
       "      <td>60</td>\n",
       "      <td>741.071551</td>\n",
       "      <td>778.541812</td>\n",
       "    </tr>\n",
       "    <tr>\n",
       "      <th>3</th>\n",
       "      <td>90</td>\n",
       "      <td>744.588271</td>\n",
       "      <td>771.622074</td>\n",
       "    </tr>\n",
       "    <tr>\n",
       "      <th>4</th>\n",
       "      <td>120</td>\n",
       "      <td>749.758950</td>\n",
       "      <td>764.365818</td>\n",
       "    </tr>\n",
       "    <tr>\n",
       "      <th>5</th>\n",
       "      <td>150</td>\n",
       "      <td>555.134025</td>\n",
       "      <td>568.275038</td>\n",
       "    </tr>\n",
       "    <tr>\n",
       "      <th>6</th>\n",
       "      <td>180</td>\n",
       "      <td>537.312999</td>\n",
       "      <td>532.245137</td>\n",
       "    </tr>\n",
       "    <tr>\n",
       "      <th>7</th>\n",
       "      <td>210</td>\n",
       "      <td>535.242332</td>\n",
       "      <td>526.693960</td>\n",
       "    </tr>\n",
       "    <tr>\n",
       "      <th>8</th>\n",
       "      <td>240</td>\n",
       "      <td>537.576532</td>\n",
       "      <td>524.595328</td>\n",
       "    </tr>\n",
       "    <tr>\n",
       "      <th>9</th>\n",
       "      <td>270</td>\n",
       "      <td>543.873698</td>\n",
       "      <td>525.196565</td>\n",
       "    </tr>\n",
       "    <tr>\n",
       "      <th>10</th>\n",
       "      <td>300</td>\n",
       "      <td>984.360555</td>\n",
       "      <td>944.536994</td>\n",
       "    </tr>\n",
       "    <tr>\n",
       "      <th>11</th>\n",
       "      <td>330</td>\n",
       "      <td>1056.439946</td>\n",
       "      <td>1041.965346</td>\n",
       "    </tr>\n",
       "    <tr>\n",
       "      <th>12</th>\n",
       "      <td>360</td>\n",
       "      <td>1072.806137</td>\n",
       "      <td>1070.072040</td>\n",
       "    </tr>\n",
       "    <tr>\n",
       "      <th>13</th>\n",
       "      <td>390</td>\n",
       "      <td>1082.621001</td>\n",
       "      <td>1079.420113</td>\n",
       "    </tr>\n",
       "    <tr>\n",
       "      <th>14</th>\n",
       "      <td>420</td>\n",
       "      <td>1109.200779</td>\n",
       "      <td>1089.487208</td>\n",
       "    </tr>\n",
       "  </tbody>\n",
       "</table>\n",
       "</div>"
      ],
      "text/plain": [
       "    time  Galactose Intensity  Glucose Intensity\n",
       "0      0           695.529341         791.128153\n",
       "1     30           731.160659         791.371498\n",
       "2     60           741.071551         778.541812\n",
       "3     90           744.588271         771.622074\n",
       "4    120           749.758950         764.365818\n",
       "5    150           555.134025         568.275038\n",
       "6    180           537.312999         532.245137\n",
       "7    210           535.242332         526.693960\n",
       "8    240           537.576532         524.595328\n",
       "9    270           543.873698         525.196565\n",
       "10   300           984.360555         944.536994\n",
       "11   330          1056.439946        1041.965346\n",
       "12   360          1072.806137        1070.072040\n",
       "13   390          1082.621001        1079.420113\n",
       "14   420          1109.200779        1089.487208"
      ]
     },
     "execution_count": 13,
     "metadata": {},
     "output_type": "execute_result"
    }
   ],
   "source": [
    "\n",
    "sugar_fluorescence_intensity_data={\"time\":time_points, \"Galactose Intensity\":galact_mean_int, \"Glucose Intensity\":gluc_mean_int}\n",
    "df=pd.DataFrame(data=sugar_fluorescence_intensity_data)\n",
    "df"
   ]
  },
  {
   "cell_type": "code",
   "execution_count": 14,
   "id": "76132426-3add-4ada-af6e-dee7d10cd483",
   "metadata": {},
   "outputs": [
    {
     "name": "stdout",
     "output_type": "stream",
     "text": [
      "541.8279172271091\n",
      "1061.0856835550364\n"
     ]
    }
   ],
   "source": [
    "#calculates the mean fluoresence intensity in galactose cell samples during the addition of FCCP and rotenone respectively\n",
    "mean_galactose_intensity_FCCP = df['Galactose Intensity'].iloc[5:10].mean()\n",
    "print(mean_galactose_intensity_FCCP)\n",
    "mean_galactose_intensity_rotenone = df['Galactose Intensity'].iloc[10:15].mean()\n",
    "print(mean_galactose_intensity_rotenone)"
   ]
  },
  {
   "cell_type": "code",
   "execution_count": 15,
   "id": "719e46b2-a731-4aab-92e9-44c453142401",
   "metadata": {},
   "outputs": [
    {
     "name": "stdout",
     "output_type": "stream",
     "text": [
      "535.4012053616091\n",
      "1045.0963400241997\n"
     ]
    }
   ],
   "source": [
    "#calculates the mean fluoresence intensity in glucose cell samples during the addition of FCCP and rotenone respectively\n",
    "mean_glucose_intensity_FCCP = df['Glucose Intensity'].iloc[5:10].mean()\n",
    "print(mean_glucose_intensity_FCCP)\n",
    "mean_glucose_intensity_rotenone = df['Glucose Intensity'].iloc[10:15].mean()\n",
    "print(mean_glucose_intensity_rotenone)"
   ]
  },
  {
   "cell_type": "code",
   "execution_count": 16,
   "id": "a12ca088-3ff9-4e56-b21a-42a7101c58b0",
   "metadata": {},
   "outputs": [],
   "source": [
    "NADH_glucose_percentage=[29.60021664,\n",
    "36.46218777,\n",
    "38.37085292,\n",
    "39.04811192,\n",
    "40.04389462]\n",
    "\n",
    "NADH_galactose_percentage=[50.17253065,\n",
    "50.22027389,\n",
    "47.70314451,\n",
    "46.34552158,\n",
    "44.92187527]\n",
    "#these values were calculated in excel. the formula used to calculate each value is shown in the results section"
   ]
  },
  {
   "cell_type": "code",
   "execution_count": 17,
   "id": "42b4514a-4ff1-4816-b544-90fad352db40",
   "metadata": {},
   "outputs": [
    {
     "name": "stdout",
     "output_type": "stream",
     "text": [
      "Wilcoxon statistic: 0.0\n",
      "P-value: 0.03125\n"
     ]
    }
   ],
   "source": [
    "statistic, p_value = stats.wilcoxon(NADH_glucose_percentage,NADH_galactose_percentage, alternative = 'less')\n",
    "\n",
    "# Output results\n",
    "print(f\"Wilcoxon statistic: {statistic}\")\n",
    "print(f\"P-value: {p_value}\")\n",
    "#A one tailed wilcoxon signed rank test is used to determine whether the decrease in NADH percentage between the 2 cell lines are significant. a p-value lower than 0.05 woold mean the difference is significant"
   ]
  },
  {
   "cell_type": "code",
   "execution_count": 19,
   "id": "22b9e3ff-3426-49a8-98ac-56be3f9baf65",
   "metadata": {},
   "outputs": [
    {
     "name": "stdout",
     "output_type": "stream",
     "text": [
      "Wilcoxon statistic: 0.0\n",
      "P-value: 0.03125\n"
     ]
    }
   ],
   "source": [
    "galactose_NAD_ratio = [0.420458917,\n",
    "0.573865963,\n",
    "0.622608858,\n",
    "0.640638267,\n",
    "0.667886854]\n",
    "glucose_NAD_ratio = [1.006925122,\n",
    "1.008849944,\n",
    "0.912160857,\n",
    "0.86377732,\n",
    "0.815602846]\n",
    "#these values are calculated in excel.\n",
    "statistic, p_value = stats.wilcoxon(galactose_NAD_ratio,glucose_NAD_ratio, alternative = 'less')\n",
    "\n",
    "# Output results\n",
    "print(f\"Wilcoxon statistic: {statistic}\")\n",
    "print(f\"P-value: {p_value}\")\n",
    "#A one tailed wilcoxon signed rank test is used to determine whether the decrease in NADH/NAD+ between the 2 cell lines are significant. a p-value lower than 0.05 woold mean the difference is significant"
   ]
  }
 ],
 "metadata": {
  "kernelspec": {
   "display_name": "Python 3 (ipykernel)",
   "language": "python",
   "name": "python3"
  },
  "language_info": {
   "codemirror_mode": {
    "name": "ipython",
    "version": 3
   },
   "file_extension": ".py",
   "mimetype": "text/x-python",
   "name": "python",
   "nbconvert_exporter": "python",
   "pygments_lexer": "ipython3",
   "version": "3.8.17"
  }
 },
 "nbformat": 4,
 "nbformat_minor": 5
}
